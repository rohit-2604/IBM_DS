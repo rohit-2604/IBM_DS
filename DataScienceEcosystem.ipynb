{
  "nbformat": 4,
  "nbformat_minor": 0,
  "metadata": {
    "colab": {
      "provenance": []
    },
    "kernelspec": {
      "name": "python3",
      "display_name": "Python 3"
    },
    "language_info": {
      "name": "python"
    }
  },
  "cells": [
    {
      "cell_type": "code",
      "execution_count": 1,
      "metadata": {
        "colab": {
          "base_uri": "https://localhost:8080/",
          "height": 112
        },
        "id": "7NT0zo9hWkDG",
        "outputId": "a0d9f817-f73f-4940-bd97-b508bfca27ef"
      },
      "outputs": [
        {
          "output_type": "error",
          "ename": "SyntaxError",
          "evalue": "invalid syntax (<ipython-input-1-296baa9fbb92>, line 4)",
          "traceback": [
            "\u001b[0;36m  File \u001b[0;32m\"<ipython-input-1-296baa9fbb92>\"\u001b[0;36m, line \u001b[0;32m4\u001b[0m\n\u001b[0;31m    Welcome to this data science notebook! In this notebook, we will explore various data science concepts, languages, libraries, and tools.\u001b[0m\n\u001b[0m            ^\u001b[0m\n\u001b[0;31mSyntaxError\u001b[0m\u001b[0;31m:\u001b[0m invalid syntax\n"
          ]
        }
      ],
      "source": [
        "# Data Science Notebook\n",
        "\n",
        "## Introduction\n",
        "Welcome to this data science notebook!\n",
        "In this notebook, we will explore various data science concepts, languages, libraries, and tools.\n",
        "\n",
        "## Data Science Languages\n",
        "- Python\n",
        "- R\n",
        "- SQL\n",
        "\n",
        "## Data Science Libraries\n",
        "- Pandas\n",
        "- NumPy\n",
        "- Matplotlib\n",
        "\n",
        "## Data Science Tools\n",
        "\n",
        "| Tool         | Description                           |\n",
        "|--------------|---------------------------------------|\n",
        "| Jupyter      | Interactive computing environment     |\n",
        "| TensorFlow   | Open-source machine learning framework|\n",
        "| scikit-learn | Machine learning library              |\n",
        "\n",
        "## Arithmetic Expressions\n",
        "In this section, we will explore some examples of arithmetic expressions.\n",
        "\n",
        "## Code Cells\n",
        "\n",
        "```python\n",
        "# Exercise 8\n",
        "\n",
        "## Objectives\n",
        "- Introduce data science languages and libraries\n",
        "- Perform basic arithmetic operations\n",
        "- Convert units of time\n",
        "\n",
        "## Author\n",
        "This notebook was created by [Rohit Neogi].\n",
        "\n"
      ]
    },
    {
      "cell_type": "code",
      "source": [
        "# Multiply and add numbers\n",
        "a = 5\n",
        "b = 10\n",
        "result = a * b + (a + b)\n",
        "print(result)"
      ],
      "metadata": {
        "colab": {
          "base_uri": "https://localhost:8080/"
        },
        "id": "UJ29NqKBYNWu",
        "outputId": "04311b2e-5273-4d51-a68f-54cc3addb7b1"
      },
      "execution_count": 2,
      "outputs": [
        {
          "output_type": "stream",
          "name": "stdout",
          "text": [
            "65\n"
          ]
        }
      ]
    },
    {
      "cell_type": "code",
      "source": [
        "# Exercise 9\n",
        "# Convert minutes to hours\n",
        "minutes = 120\n",
        "hours = minutes / 60\n",
        "print(hours)\n"
      ],
      "metadata": {
        "colab": {
          "base_uri": "https://localhost:8080/"
        },
        "id": "SeipZh_3YXgD",
        "outputId": "eef0a713-eccd-4b68-8d60-5b56425f9f7a"
      },
      "execution_count": 3,
      "outputs": [
        {
          "output_type": "stream",
          "name": "stdout",
          "text": [
            "2.0\n"
          ]
        }
      ]
    }
  ]
}